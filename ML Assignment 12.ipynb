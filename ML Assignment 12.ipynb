{
 "cells": [
  {
   "cell_type": "code",
   "execution_count": null,
   "id": "d414bf66-339e-4844-b6a6-5e34754a3e07",
   "metadata": {},
   "outputs": [],
   "source": [
    "#1. What is prior probability ? Give an example ?\n",
    "\n",
    "Ans: Prior probability shows the likelihood of an outcome in a given dataset. \n",
    "For example, in the mortgage case, P(Y) is the default rate on a home mortgage, which is 2%. P(Y|X) is called the conditional probability, \n",
    "which provides the probability of an outcome given the evidence, that is, when the value of X is known."
   ]
  },
  {
   "cell_type": "code",
   "execution_count": null,
   "id": "4aba06ba-0eb8-4315-93d3-321864b7c357",
   "metadata": {},
   "outputs": [],
   "source": [
    "#2. What is posterior probability ? Give an example ?\n",
    "\n",
    "Ans: Posterior probability is a revised probability that takes into account new available information. \n",
    "For example, let there be two urns, urn A having 5 black balls and 10 red balls and urn B having 10 black balls and 5 red balls."
   ]
  },
  {
   "cell_type": "code",
   "execution_count": null,
   "id": "c690cfd6-2e05-4723-8f72-84577e88cea2",
   "metadata": {},
   "outputs": [],
   "source": [
    "#3. What is likelihood probability ? Give an example ?\n",
    "\n",
    "Ans: Likelihood Function in Machine Learning and Data Science is the joint probability distribution(jpd) of the dataset given as a function\n",
    "of the parameter. Think of it as the probability of obtaining the observed data given the parameter values."
   ]
  },
  {
   "cell_type": "code",
   "execution_count": null,
   "id": "d31068c4-a014-4d51-94b8-1bed9c4ab2d8",
   "metadata": {},
   "outputs": [],
   "source": [
    "#4.  What is Naïve Bayes classifier ? Why is it named so ?\n",
    "\n",
    "Ans: Naive Bayes is a simple and powerful algorithm for predictive modeling. Naive Bayes is called naive because it assumes that each input\n",
    "variable is independent. This is a strong assumption and unrealistic for real data; however, the technique is very effective on a large \n",
    "range of complex problems."
   ]
  },
  {
   "cell_type": "code",
   "execution_count": null,
   "id": "bfdef2cb-2048-4b7e-aab9-23086c7aa216",
   "metadata": {},
   "outputs": [],
   "source": [
    "#5. What is optimal Bayes classifier ?\n",
    "\n",
    "Ans: The Bayes Optimal Classifier is a probabilistic model that makes the most probable prediction for a new example. \n",
    "Bayes Optimal Classifier is a probabilistic model that finds the most probable prediction using the training data and space of hypotheses \n",
    "to make a prediction for a new data instance."
   ]
  },
  {
   "cell_type": "code",
   "execution_count": null,
   "id": "f32627d7-42d1-459f-8f48-784774ac7c48",
   "metadata": {},
   "outputs": [],
   "source": [
    "#6. Write any two features of Bayesian learning methods ?\n",
    "\n",
    "Ans: A probability distribution over observed data for each possible hypothesis. New instances can be classified by combining the\n",
    "predictions of multiple hypotheses, weighted by their probabilities."
   ]
  },
  {
   "cell_type": "code",
   "execution_count": null,
   "id": "76c95fb2-f19a-4f34-bcb2-a3190c3a96db",
   "metadata": {},
   "outputs": [],
   "source": [
    "#7. Define the concept of consistent learners ?\n",
    "\n",
    "Ans: Consistent Learners: A learner L using a hypothesis H and training data D is said to be a consistent learner if it always outputs a \n",
    "hypothesis with zero error on D whenever H contains such a hypothesis. • By definition, a consistent learner must produce a hypothesis in\n",
    "the version space for H given D."
   ]
  },
  {
   "cell_type": "code",
   "execution_count": null,
   "id": "73788468-9d58-47f8-b916-3fbbb1fc172e",
   "metadata": {},
   "outputs": [],
   "source": [
    "#8. Write any two strengths of Bayes classifier ?\n",
    "\n",
    "Ans: This algorithm works quickly and can save a lot of time. Naive Bayes is suitable for solving multi-class prediction problems. \n",
    "If its assumption of the independence of features holds true, it can perform better than other models and requires much less training data."
   ]
  },
  {
   "cell_type": "code",
   "execution_count": null,
   "id": "cb984a0e-53f1-48ba-a1d1-ce09e1d231cc",
   "metadata": {},
   "outputs": [],
   "source": [
    "#9. Write any two weaknesses of Bayes classifier ?\n",
    "\n",
    "Ans: The greatest weakness of the naïve Bayes classifier is that it relies on an often-faulty assumption of equally important and \n",
    "independent features which results in biased posterior probabilities."
   ]
  },
  {
   "cell_type": "code",
   "execution_count": null,
   "id": "e768d1ae-e70a-4b7e-a31a-2798af625f00",
   "metadata": {},
   "outputs": [],
   "source": [
    "#10. Explain how Naïve Bayes classifier is used for:\n",
    "#Text classification\n",
    "#Spam filtering\n",
    "#Market sentiment analysis\n",
    "\n",
    "Ans: Navie Bayes Classifier is used for:\n",
    "\n",
    "*Text classification:\n",
    "The Naive Bayes classifier is a simple classifier that classifies based on probabilities of events. It is the applied commonly to text\n",
    "classification. With the training set, we can train a Naive Bayes classifier which we can use to automaticall categorize a new sentence.\n",
    "\n",
    "*Spam filtering:\n",
    "Naive Bayes classifiers work by correlating the use of tokens (typically words, or sometimes other things), with spam and non-spam e-mails \n",
    "and then using Bayes' theorem to calculate a probability that an email is or is not spam. It is one of the oldest ways of doing spam \n",
    "filtering, with roots in the 1990s.\n",
    "\n",
    "*Market sentiment analysis:\n",
    "Market Sentiment analysis is a field dedicated to extracting subjective emotions and feelings from text. One common use of sentiment \n",
    "analysis is to figure out if a text expresses negative or positive feelings. Naive Bayes is a popular algorithm for classifying text."
   ]
  }
 ],
 "metadata": {
  "kernelspec": {
   "display_name": "Python 3 (ipykernel)",
   "language": "python",
   "name": "python3"
  },
  "language_info": {
   "codemirror_mode": {
    "name": "ipython",
    "version": 3
   },
   "file_extension": ".py",
   "mimetype": "text/x-python",
   "name": "python",
   "nbconvert_exporter": "python",
   "pygments_lexer": "ipython3",
   "version": "3.10.6"
  }
 },
 "nbformat": 4,
 "nbformat_minor": 5
}
